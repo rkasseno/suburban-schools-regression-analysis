{
 "cells": [
  {
   "cell_type": "code",
   "execution_count": 2,
   "metadata": {},
   "outputs": [],
   "source": [
    "%run \"C:\\Users\\kassenov_r\\suburban-schools-regression-analysis\\funcs\\internal_exam.ipynb\""
   ]
  },
  {
   "cell_type": "code",
   "execution_count": 29,
   "metadata": {},
   "outputs": [
    {
     "data": {
      "text/plain": [
       "142"
      ]
     },
     "execution_count": 29,
     "metadata": {},
     "output_type": "execute_result"
    }
   ],
   "source": [
    "# mon[(mon['school'] == 'КГУ «Общеобразовательная школа № 5 города Ақсай» Бурлинского района ЗКО') & (mon['test'] == 'RS0423')]['name'].nunique()"
   ]
  },
  {
   "cell_type": "code",
   "execution_count": 24,
   "metadata": {},
   "outputs": [
    {
     "data": {
      "text/html": [
       "<div>\n",
       "<style scoped>\n",
       "    .dataframe tbody tr th:only-of-type {\n",
       "        vertical-align: middle;\n",
       "    }\n",
       "\n",
       "    .dataframe tbody tr th {\n",
       "        vertical-align: top;\n",
       "    }\n",
       "\n",
       "    .dataframe thead th {\n",
       "        text-align: right;\n",
       "    }\n",
       "</style>\n",
       "<table border=\"1\" class=\"dataframe\">\n",
       "  <thead>\n",
       "    <tr style=\"text-align: right;\">\n",
       "      <th></th>\n",
       "      <th>test</th>\n",
       "      <th>school</th>\n",
       "      <th>name</th>\n",
       "      <th>grade</th>\n",
       "      <th>subject</th>\n",
       "      <th>percent</th>\n",
       "    </tr>\n",
       "  </thead>\n",
       "  <tbody>\n",
       "    <tr>\n",
       "      <th>2717</th>\n",
       "      <td>RS1122</td>\n",
       "      <td>КГУ «Общеобразовательная школа № 5 города Ақса...</td>\n",
       "      <td>Амангелді Асылай Ахмедьярқызы</td>\n",
       "      <td>4</td>\n",
       "      <td>4KZFL</td>\n",
       "      <td>45.0</td>\n",
       "    </tr>\n",
       "    <tr>\n",
       "      <th>2718</th>\n",
       "      <td>RS1122</td>\n",
       "      <td>КГУ «Общеобразовательная школа № 5 города Ақса...</td>\n",
       "      <td>Амангелді Асылай Ахмедьярқызы</td>\n",
       "      <td>4</td>\n",
       "      <td>4MATH</td>\n",
       "      <td>70.0</td>\n",
       "    </tr>\n",
       "    <tr>\n",
       "      <th>2719</th>\n",
       "      <td>RS1122</td>\n",
       "      <td>КГУ «Общеобразовательная школа № 5 города Ақса...</td>\n",
       "      <td>Амангелді Асылай Ахмедьярқызы</td>\n",
       "      <td>4</td>\n",
       "      <td>4SCIE</td>\n",
       "      <td>45.0</td>\n",
       "    </tr>\n",
       "  </tbody>\n",
       "</table>\n",
       "</div>"
      ],
      "text/plain": [
       "        test                                             school  \\\n",
       "2717  RS1122  КГУ «Общеобразовательная школа № 5 города Ақса...   \n",
       "2718  RS1122  КГУ «Общеобразовательная школа № 5 города Ақса...   \n",
       "2719  RS1122  КГУ «Общеобразовательная школа № 5 города Ақса...   \n",
       "\n",
       "                               name  grade subject  percent  \n",
       "2717  Амангелді Асылай Ахмедьярқызы      4   4KZFL     45.0  \n",
       "2718  Амангелді Асылай Ахмедьярқызы      4   4MATH     70.0  \n",
       "2719  Амангелді Асылай Ахмедьярқызы      4   4SCIE     45.0  "
      ]
     },
     "execution_count": 24,
     "metadata": {},
     "output_type": "execute_result"
    }
   ],
   "source": [
    "# mon[mon['name'] == 'Амангелді Асылай Ахмедьярқызы']"
   ]
  }
 ],
 "metadata": {
  "kernelspec": {
   "display_name": "myenv",
   "language": "python",
   "name": "python3"
  },
  "language_info": {
   "codemirror_mode": {
    "name": "ipython",
    "version": 3
   },
   "file_extension": ".py",
   "mimetype": "text/x-python",
   "name": "python",
   "nbconvert_exporter": "python",
   "pygments_lexer": "ipython3",
   "version": "3.11.6"
  }
 },
 "nbformat": 4,
 "nbformat_minor": 2
}
