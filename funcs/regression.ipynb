{
 "cells": [
  {
   "cell_type": "markdown",
   "id": "a10912d0",
   "metadata": {},
   "source": [
    "## OLS Regression function"
   ]
  },
  {
   "cell_type": "markdown",
   "id": "dc9e1abf",
   "metadata": {},
   "source": [
    "---"
   ]
  },
  {
   "cell_type": "code",
   "execution_count": 1,
   "id": "0cac594f",
   "metadata": {},
   "outputs": [],
   "source": [
    "import statsmodels.api as sm"
   ]
  },
  {
   "cell_type": "code",
   "execution_count": null,
   "id": "3d60dcd5",
   "metadata": {},
   "outputs": [],
   "source": [
    "# def ols_regression(dfs):\n",
    "#     for school, df in dfs.items():\n",
    "#         x = sm.add_constant(df[f'{school}'])\n",
    "#         y = \n",
    "#         model = sm.OLS()"
   ]
  }
 ],
 "metadata": {
  "kernelspec": {
   "display_name": "myenv",
   "language": "python",
   "name": "python3"
  },
  "language_info": {
   "codemirror_mode": {
    "name": "ipython",
    "version": 3
   },
   "file_extension": ".py",
   "mimetype": "text/x-python",
   "name": "python",
   "nbconvert_exporter": "python",
   "pygments_lexer": "ipython3",
   "version": "3.11.6"
  }
 },
 "nbformat": 4,
 "nbformat_minor": 5
}
