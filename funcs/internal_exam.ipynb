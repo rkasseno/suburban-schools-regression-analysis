{
 "cells": [
  {
   "cell_type": "markdown",
   "id": "e8b707e2",
   "metadata": {},
   "source": [
    "## Data preprocessing functions"
   ]
  },
  {
   "cell_type": "markdown",
   "id": "e8e84900",
   "metadata": {},
   "source": [
    "---"
   ]
  },
  {
   "cell_type": "code",
   "execution_count": 20,
   "id": "e8970a6a",
   "metadata": {},
   "outputs": [],
   "source": [
    "import pandas as pd"
   ]
  },
  {
   "cell_type": "code",
   "execution_count": 21,
   "id": "4ae27ad0",
   "metadata": {},
   "outputs": [],
   "source": [
    "def read_excel_file(file_path, sheet_name='data'):\n",
    "    try:\n",
    "        return pd.read_excel(file_path, sheet_name=sheet_name)\n",
    "    except Exception as e:\n",
    "        print(f\"Error reading '{file_path}': {e}\")\n",
    "        return None"
   ]
  },
  {
   "cell_type": "code",
   "execution_count": 22,
   "id": "7f6359a7",
   "metadata": {},
   "outputs": [],
   "source": [
    "def rename_columns(dfs):\n",
    "    for school, df in dfs.items():\n",
    "        df.rename(columns={\n",
    "            'ФИО' : 'name', \n",
    "            'Предмет' : 'subject', \n",
    "            'СОЧ 2 четверть' : 'soch2', \n",
    "            'СОЧ 4 четверть' : 'soch4'\n",
    "            }, inplace=True)\n",
    "    return None"
   ]
  },
  {
   "cell_type": "code",
   "execution_count": 23,
   "id": "5eb036d8",
   "metadata": {},
   "outputs": [],
   "source": [
    "def add_school_column(dfs):\n",
    "    for school, df in dfs.items():\n",
    "        df['school'] = school\n",
    "    return None"
   ]
  },
  {
   "cell_type": "code",
   "execution_count": 24,
   "id": "5e6c17f5",
   "metadata": {},
   "outputs": [],
   "source": [
    "def detectNaN(dfs):\n",
    "    for school, df in dfs.items():\n",
    "        if df.isna().values.any() == True:\n",
    "            print(f\"NaN values detected: '{school}'\")"
   ]
  },
  {
   "cell_type": "code",
   "execution_count": 25,
   "id": "e6c959bd",
   "metadata": {},
   "outputs": [],
   "source": [
    "def str_strip(dfs):\n",
    "    for school, df in dfs.items():\n",
    "        df.columns = df.columns.str.strip()\n",
    "        for col in df:\n",
    "            try:\n",
    "                df[col] + 1\n",
    "            except:\n",
    "                df[col] = df[col].str.strip()"
   ]
  },
  {
   "cell_type": "code",
   "execution_count": 26,
   "id": "8301b113",
   "metadata": {},
   "outputs": [],
   "source": [
    "def to_number(dfs, columns):\n",
    "    for school, df in dfs.items():\n",
    "        df[columns] = pd.to_numeric(df[columns], errors='coerce')"
   ]
  },
  {
   "cell_type": "code",
   "execution_count": 27,
   "id": "9b792595",
   "metadata": {},
   "outputs": [],
   "source": [
    "def get_info(dfs):\n",
    "    for school, df in dfs.items():\n",
    "        print(df.info())"
   ]
  },
  {
   "cell_type": "code",
   "execution_count": 29,
   "id": "a5c8b008",
   "metadata": {},
   "outputs": [],
   "source": [
    "def name_change(df, column):\n",
    "    df[column] = df.apply(lambda row: ' '.join(row['name'].rsplit(' ', 2)[:-1]) if len(row['name'].split()) == 3 else row['name'], axis=1)"
   ]
  }
 ],
 "metadata": {
  "kernelspec": {
   "display_name": "myenv",
   "language": "python",
   "name": "python3"
  },
  "language_info": {
   "codemirror_mode": {
    "name": "ipython",
    "version": 3
   },
   "file_extension": ".py",
   "mimetype": "text/x-python",
   "name": "python",
   "nbconvert_exporter": "python",
   "pygments_lexer": "ipython3",
   "version": "3.11.6"
  }
 },
 "nbformat": 4,
 "nbformat_minor": 5
}
